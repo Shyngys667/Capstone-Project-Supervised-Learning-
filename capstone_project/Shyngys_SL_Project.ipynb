{
 "cells": [
  {
   "cell_type": "code",
   "execution_count": 90,
   "id": "5fa1852b-d50c-4ac1-b2da-be10b1ee5261",
   "metadata": {},
   "outputs": [],
   "source": [
    "# Loading Libs\n",
    "import numpy as np\n",
    "import pandas as pd\n",
    "from sklearn.model_selection import train_test_split, GridSearchCV, cross_val_score\n",
    "from sklearn.tree import DecisionTreeRegressor, DecisionTreeClassifier\n",
    "from sklearn import metrics\n",
    "from sklearn.preprocessing import StandardScaler, PolynomialFeatures\n",
    "from sklearn.linear_model import LogisticRegression, LinearRegression\n",
    "from sklearn.ensemble import GradientBoostingClassifier, RandomForestClassifier, GradientBoostingRegressor, RandomForestRegressor\n",
    "from sklearn.pipeline import make_pipeline"
   ]
  },
  {
   "cell_type": "code",
   "execution_count": 92,
   "id": "1adf3110-6a9f-430a-86fd-cf5b86d88c68",
   "metadata": {},
   "outputs": [],
   "source": [
    "# loading Datas\n",
    "df_train = pd.read_csv('train_data.csv')\n",
    "df_valid = pd.read_csv('valid_data.csv')"
   ]
  },
  {
   "cell_type": "code",
   "execution_count": 94,
   "id": "62835390-2d31-4ff3-992b-8739b990ca2e",
   "metadata": {},
   "outputs": [],
   "source": [
    "y = df_train['target']\n",
    "x = df_train.drop(columns=[df_train.columns[0],'target'])\n",
    "x.fillna(0, inplace=True)"
   ]
  },
  {
   "cell_type": "code",
   "execution_count": 96,
   "id": "d2875f38-494c-4e5d-8802-842af9c54c8f",
   "metadata": {},
   "outputs": [],
   "source": [
    "x_train, x_test, y_train, y_test = train_test_split(x, y, test_size=0.3, random_state=42)"
   ]
  },
  {
   "cell_type": "code",
   "execution_count": 98,
   "id": "f63ae9e9-69ab-4189-bf4b-87c7e52a0eb4",
   "metadata": {},
   "outputs": [],
   "source": [
    "def model_evaluation(model, x_test, y_test, model_name):\n",
    "    y_pred = model.predict(x_test)\n",
    "    y_pred = [1 if pred >= 0.5 else 0 for pred in y_pred]\n",
    "    precision = metrics.precision_score(y_test, y_pred)\n",
    "    recall = metrics.recall_score(y_test, y_pred)\n",
    "    f1 = metrics.f1_score(y_test, y_pred)\n",
    "    auc_roc = metrics.roc_auc_score(y_test, y_pred)\n",
    "    accuracy = metrics.accuracy_score(y_test, y_pred)\n",
    "    \n",
    "    return pd.DataFrame([precision, recall, f1, auc_roc, accuracy], index=['Precision', 'Recall', 'F1' ,'AUC_ROC', 'Accuracy'], columns=[model_name])"
   ]
  },
  {
   "cell_type": "code",
   "execution_count": 100,
   "id": "29965149-a100-420d-9f0f-8bfe6564cd4c",
   "metadata": {},
   "outputs": [
    {
     "name": "stdout",
     "output_type": "stream",
     "text": [
      "           Decision Tree Regressor Train\n",
      "Precision                       0.855857\n",
      "Recall                          0.707048\n",
      "F1                              0.774369\n",
      "AUC_ROC                         0.839895\n",
      "Accuracy                        0.923252\n",
      "           Decision Tree Regressor Test\n",
      "Precision                      0.540832\n",
      "Recall                         0.443602\n",
      "F1                             0.487415\n",
      "AUC_ROC                        0.677812\n",
      "Accuracy                       0.823322\n"
     ]
    }
   ],
   "source": [
    "#Decision Tree Regressor Model with gridsearch\n",
    "tree_regressor = DecisionTreeRegressor(max_depth=15, min_samples_split=5, min_samples_leaf=2).fit(x_train, y_train)\n",
    "print(model_evaluation(tree_regressor, x_train, y_train, 'Decision Tree Regressor Train'))\n",
    "print(model_evaluation(tree_regressor, x_test, y_test, 'Decision Tree Regressor Test'))"
   ]
  },
  {
   "cell_type": "code",
   "execution_count": 101,
   "id": "faddbb44-6cc7-422f-a8ee-15c721cb7bd2",
   "metadata": {},
   "outputs": [
    {
     "name": "stdout",
     "output_type": "stream",
     "text": [
      "Fitting 5 folds for each of 18 candidates, totalling 90 fits\n",
      "           Decision Tree Classifier Train\n",
      "Precision                        0.850852\n",
      "Recall                           0.776707\n",
      "F1                               0.812091\n",
      "AUC_ROC                          0.872771\n",
      "Accuracy                         0.933048\n",
      "           Decision Tree Classifier Test\n",
      "Precision                       0.557092\n",
      "Recall                          0.496367\n",
      "F1                              0.524979\n",
      "AUC_ROC                         0.702091\n",
      "Accuracy                        0.829903\n"
     ]
    }
   ],
   "source": [
    "#Decision Tree Regressor Model with gridsearch\n",
    "param_grid = {\n",
    "    'max_depth': [12, 15, 20],\n",
    "    'min_samples_split': [10, 20],\n",
    "    'min_samples_leaf': [2, 5, 10]\n",
    "}\n",
    "\n",
    "# Use DecisionTreeClassifier instead of DecisionTreeRegressor\n",
    "tree_classifier = DecisionTreeClassifier(\n",
    "    max_depth=15,\n",
    "    min_samples_split=5,\n",
    "    min_samples_leaf=2\n",
    ")\n",
    "\n",
    "# Perform GridSearchCV to find the best hyperparameters\n",
    "grid_search = GridSearchCV(estimator=tree_classifier, param_grid=param_grid,\n",
    "                           scoring='f1', cv=5, verbose=1, return_train_score=True)\n",
    "\n",
    "# Fit to the training data\n",
    "grid_search.fit(x_train, y_train)\n",
    "\n",
    "# Get the best model with optimal hyperparameters\n",
    "best_tree_classifier = grid_search.best_estimator_\n",
    "\n",
    "# Evaluate the model on train and test sets\n",
    "print(model_evaluation(best_tree_classifier, x_train, y_train, 'Decision Tree Classifier Train'))\n",
    "print(model_evaluation(best_tree_classifier, x_test, y_test, 'Decision Tree Classifier Test'))"
   ]
  },
  {
   "cell_type": "code",
   "execution_count": 102,
   "id": "d117d7d6-af3d-44be-8925-0b3c975fe8af",
   "metadata": {},
   "outputs": [
    {
     "name": "stdout",
     "output_type": "stream",
     "text": [
      "           Decision Tree Classifier Train\n",
      "Precision                        0.998335\n",
      "Recall                           0.990639\n",
      "F1                               0.994472\n",
      "AUC_ROC                          0.995130\n",
      "Accuracy                         0.997949\n",
      "           Decision Tree Classifier Test\n",
      "Precision                       0.561221\n",
      "Recall                          0.580727\n",
      "F1                              0.570807\n",
      "AUC_ROC                         0.737334\n",
      "Accuracy                        0.834630\n"
     ]
    }
   ],
   "source": [
    "#Decision Tree Classifier Model\n",
    "tree_classifier = DecisionTreeClassifier().fit(x_train, y_train)\n",
    "print(model_evaluation(tree_classifier, x_train, y_train, 'Decision Tree Classifier Train'))\n",
    "print(model_evaluation(tree_classifier, x_test, y_test, 'Decision Tree Classifier Test'))"
   ]
  },
  {
   "cell_type": "code",
   "execution_count": 103,
   "id": "79493146-203c-477b-bff6-384256c66f41",
   "metadata": {},
   "outputs": [
    {
     "name": "stdout",
     "output_type": "stream",
     "text": [
      "Fitting 5 folds for each of 18 candidates, totalling 90 fits\n",
      "           Tuned Decision Tree Classifier Test\n",
      "Precision                             0.466900\n",
      "Recall                                0.675197\n",
      "F1                                    0.552054\n",
      "AUC_ROC                               0.747555\n",
      "Accuracy                              0.792509\n",
      "           Tuned Decision Tree Classifier Train\n",
      "Precision                              0.688145\n",
      "Recall                                 0.990914\n",
      "F1                                     0.812232\n",
      "AUC_ROC                                0.944061\n",
      "Accuracy                               0.914662\n"
     ]
    }
   ],
   "source": [
    "#Decision Tree Classifier Model with gridsearch\n",
    "param_grid = {\n",
    "    'max_depth': [12, 15, 20], \n",
    "    'min_samples_split': [10, 20], \n",
    "    'min_samples_leaf': [2, 5, 10]\n",
    "}\n",
    "\n",
    "tree_classifier = DecisionTreeClassifier(\n",
    "    max_depth=15,\n",
    "    min_samples_split=5,\n",
    "    min_samples_leaf=2,\n",
    "    class_weight='balanced',  # or use a specific dictionary like {0:1, 1:2} for class imbalance\n",
    "    random_state=42\n",
    ")\n",
    "\n",
    "grid_search = GridSearchCV(estimator=tree_classifier, param_grid=param_grid, \n",
    "                           scoring='f1', cv=5, verbose=1, return_train_score=True)\n",
    "\n",
    "# Fit to the training data\n",
    "grid_search.fit(x_train, y_train)\n",
    "\n",
    "# Get the best model with optimal hyperparameters\n",
    "best_tree_classifier = grid_search.best_estimator_\n",
    "\n",
    "# Step 2: Evaluate the tuned model on the test set\n",
    "test_eval = model_evaluation(best_tree_classifier, x_test, y_test, 'Tuned Decision Tree Classifier Test')\n",
    "\n",
    "# Evaluate the tuned model on the training set (for comparison)\n",
    "train_eval = model_evaluation(best_tree_classifier, x_train, y_train, 'Tuned Decision Tree Classifier Train')\n",
    "\n",
    "# Display results\n",
    "print(test_eval)\n",
    "print(train_eval)"
   ]
  },
  {
   "cell_type": "code",
   "execution_count": 105,
   "id": "3c84738f-4219-4a15-9784-2e2290e821f6",
   "metadata": {},
   "outputs": [
    {
     "name": "stdout",
     "output_type": "stream",
     "text": [
      "           Random Forest Classifier Train\n",
      "Precision                        0.995995\n",
      "Recall                           0.992841\n",
      "F1                               0.994416\n",
      "AUC_ROC                          0.995964\n",
      "Accuracy                         0.997923\n",
      "           Random Forest Classifier Test\n",
      "Precision                       0.898030\n",
      "Recall                          0.489731\n",
      "F1                              0.633817\n",
      "AUC_ROC                         0.738371\n",
      "Accuracy                        0.892844\n"
     ]
    }
   ],
   "source": [
    "#Random Forest Classifier Model\n",
    "model1 = RandomForestClassifier().fit(x_train, y_train)\n",
    "print(model_evaluation(model1, x_train, y_train, 'Random Forest Classifier Train'))\n",
    "print(model_evaluation(model1, x_test, y_test, 'Random Forest Classifier Test'))"
   ]
  },
  {
   "cell_type": "code",
   "execution_count": 106,
   "id": "1b964f4d-3106-4385-98d3-3b44cb7b12e8",
   "metadata": {},
   "outputs": [
    {
     "name": "stdout",
     "output_type": "stream",
     "text": [
      "           Gradient Boosting Classifier Train\n",
      "Precision                            0.996270\n",
      "Recall                               0.992704\n",
      "F1                                   0.994484\n",
      "AUC_ROC                              0.995926\n",
      "Accuracy                             0.997949\n",
      "           Gradient Boosting Classifier Test\n",
      "Precision                           0.864012\n",
      "Recall                              0.527962\n",
      "F1                                  0.655423\n",
      "AUC_ROC                             0.754276\n",
      "Accuracy                            0.894879\n"
     ]
    }
   ],
   "source": [
    "#Gradient Boosting Classifier Model\n",
    "model2 = GradientBoostingClassifier(max_depth=15, min_samples_split=5, min_samples_leaf=2).fit(x_train, y_train)\n",
    "print(model_evaluation(model2, x_train, y_train, 'Gradient Boosting Classifier Train'))\n",
    "print(model_evaluation(model2, x_test, y_test, 'Gradient Boosting Classifier Test'))"
   ]
  },
  {
   "cell_type": "code",
   "execution_count": 107,
   "id": "7ba0abf9-b70a-47c5-acf7-ff266930a010",
   "metadata": {},
   "outputs": [
    {
     "name": "stdout",
     "output_type": "stream",
     "text": [
      "           Random Forest Regressor Train\n",
      "Precision                       0.995995\n",
      "Recall                          0.992841\n",
      "F1                              0.994416\n",
      "AUC_ROC                         0.995964\n",
      "Accuracy                        0.997923\n",
      "           Random Forest Regressor Test\n",
      "Precision                      0.864371\n",
      "Recall                         0.523539\n",
      "F1                             0.652105\n",
      "AUC_ROC                        0.752175\n",
      "Accuracy                       0.894220\n"
     ]
    }
   ],
   "source": [
    "#Random Forest Regressor Model\n",
    "Random_Forest_Regressor = RandomForestRegressor().fit(x_train, y_train)\n",
    "print(model_evaluation(Random_Forest_Regressor, x_train, y_train, 'Random Forest Regressor Train'))\n",
    "print(model_evaluation(Random_Forest_Regressor, x_test, y_test, 'Random Forest Regressor Test'))"
   ]
  },
  {
   "cell_type": "code",
   "execution_count": 108,
   "id": "37db687a-9e9d-4ea1-a418-41fcc293486c",
   "metadata": {},
   "outputs": [
    {
     "name": "stdout",
     "output_type": "stream",
     "text": [
      "           Gradient Boosting Regressor Train\n",
      "Precision                           0.996680\n",
      "Recall                              0.992015\n",
      "F1                                  0.994342\n",
      "AUC_ROC                             0.995630\n",
      "Accuracy                            0.997897\n",
      "           Gradient Boosting Regressor Test\n",
      "Precision                          0.802548\n",
      "Recall                             0.557346\n",
      "F1                                 0.657841\n",
      "AUC_ROC                            0.762657\n",
      "Accuracy                           0.890212\n"
     ]
    }
   ],
   "source": [
    "#Gradient Boosting Regressor Model\n",
    "Gradient_Boosting_Regressor = GradientBoostingRegressor(max_depth=15, min_samples_split=5, min_samples_leaf=2).fit(x_train, y_train)\n",
    "print(model_evaluation(Gradient_Boosting_Regressor, x_train, y_train, 'Gradient Boosting Regressor Train'))\n",
    "print(model_evaluation(Gradient_Boosting_Regressor, x_test, y_test, 'Gradient Boosting Regressor Test'))"
   ]
  },
  {
   "cell_type": "code",
   "execution_count": 109,
   "id": "6fd4cb1a-405b-48c3-8ea8-b7a31dd56d9b",
   "metadata": {},
   "outputs": [
    {
     "name": "stdout",
     "output_type": "stream",
     "text": [
      "Fitting 10 folds for each of 5 candidates, totalling 50 fits\n",
      "           Logistic Regression Train\n",
      "Precision                   0.567500\n",
      "Recall                      0.125000\n",
      "F1                          0.204874\n",
      "AUC_ROC                     0.551597\n",
      "Accuracy                    0.819273\n",
      "           Logistic Regression Test\n",
      "Precision                  0.582712\n",
      "Recall                     0.123539\n",
      "F1                         0.203858\n",
      "AUC_ROC                    0.551436\n",
      "Accuracy                   0.817279\n"
     ]
    }
   ],
   "source": [
    "#Logistic Regression with gridsearch\n",
    "scaler = StandardScaler().fit(x_train)\n",
    "x_train_scaled = scaler.transform(x_train)\n",
    "x_test_scaled = scaler.transform(x_test)\n",
    "\n",
    "# Define the parameter grid for Logistic Regression\n",
    "param_grid_lr = {\n",
    "    'penalty': ['l2'],  # L2 regularization (ridge)\n",
    "    'C': [0.01, 0.1, 1, 10, 100],  # Inverse regularization strength\n",
    "    'solver': ['saga'],  # saga is better for larger datasets, supports L2 regularization\n",
    "    'max_iter': [1000]  # Increase the max iterations for convergence\n",
    "}\n",
    "\n",
    "# Initialize and run GridSearchCV with Logistic Regression\n",
    "logistic_reg = GridSearchCV(\n",
    "    estimator=LogisticRegression(random_state=1234, n_jobs=-1),\n",
    "    param_grid=param_grid_lr,\n",
    "    verbose=1,\n",
    "    cv=10,\n",
    "    n_jobs=-1\n",
    ").fit(x_train_scaled, y_train)\n",
    "\n",
    "# Evaluate the performance on both the train and test datasets\n",
    "print(model_evaluation(logistic_reg, x_train_scaled, y_train, 'Logistic Regression Train'))\n",
    "print(model_evaluation(logistic_reg, x_test_scaled, y_test, 'Logistic Regression Test'))"
   ]
  },
  {
   "cell_type": "code",
   "execution_count": 110,
   "id": "29eefa29-1735-4411-bb30-f3ee4c263ec0",
   "metadata": {},
   "outputs": [
    {
     "name": "stdout",
     "output_type": "stream",
     "text": [
      "           Linear Regression Train\n",
      "Precision                 0.575221\n",
      "Recall                    0.062638\n",
      "F1                        0.112973\n",
      "AUC_ROC                   0.526025\n",
      "Accuracy                  0.816785\n",
      "           Linear Regression Test\n",
      "Precision                0.611801\n",
      "Recall                   0.062243\n",
      "F1                       0.112991\n",
      "AUC_ROC                  0.526509\n",
      "Accuracy                 0.814946\n"
     ]
    }
   ],
   "source": [
    "#Linear Regression Model\n",
    "linear_reg = LinearRegression().fit(x_train_scaled, y_train)\n",
    "print(model_evaluation(linear_reg, x_train_scaled, y_train, 'Linear Regression Train'))\n",
    "print(model_evaluation(linear_reg, x_test_scaled, y_test, 'Linear Regression Test'))"
   ]
  },
  {
   "cell_type": "code",
   "execution_count": 111,
   "id": "6482f4f1-a85a-425f-b9bd-03d80ef6df85",
   "metadata": {},
   "outputs": [
    {
     "name": "stdout",
     "output_type": "stream",
     "text": [
      "           Linear Regression Train\n",
      "Precision                 0.663246\n",
      "Recall                    0.195760\n",
      "F1                        0.302296\n",
      "AUC_ROC                   0.586504\n",
      "Accuracy                  0.831684\n",
      "           Linear Regression Test\n",
      "Precision                0.657503\n",
      "Recall                   0.181359\n",
      "F1                       0.284299\n",
      "AUC_ROC                  0.579645\n",
      "Accuracy                 0.827091\n"
     ]
    }
   ],
   "source": [
    "# Let's use Polynomial Features to make our result better\n",
    "poly = PolynomialFeatures(degree=2)\n",
    "\n",
    "# Create a pipeline that first creates polynomial features then applies Linear Regression\n",
    "poly_linear_reg = make_pipeline(poly, LinearRegression()).fit(x_train_scaled, y_train)\n",
    "print(model_evaluation(poly_linear_reg, x_train_scaled, y_train, 'Linear Regression Train'))\n",
    "print(model_evaluation(poly_linear_reg, x_test_scaled, y_test, 'Linear Regression Test'))"
   ]
  },
  {
   "cell_type": "code",
   "execution_count": 112,
   "id": "138c799d-a0f0-4386-96d4-453690d23704",
   "metadata": {},
   "outputs": [],
   "source": [
    "#One of the best model that showed most accuracy is Random Forest Regressor \n",
    "y1 = df_valid['target']\n",
    "x1 = df_valid.drop(columns=[df_valid.columns[0],'target'])\n",
    "x1.fillna(0, inplace=True) "
   ]
  },
  {
   "cell_type": "code",
   "execution_count": 113,
   "id": "dc03e586-a653-4b30-a3fb-cc49ec6adce6",
   "metadata": {},
   "outputs": [],
   "source": [
    "x1_train, x1_test, y1_train, y1_test = train_test_split(x1, y1, test_size=0.3, random_state=42)"
   ]
  },
  {
   "cell_type": "code",
   "execution_count": 114,
   "id": "b6385c09-4b44-477b-9256-97d2f7c9f180",
   "metadata": {},
   "outputs": [],
   "source": [
    "def model_evaluation(model1, x1_test, y1_test, model_name1):\n",
    "    y1_pred = model1.predict(x1_test)\n",
    "    y1_pred = [1 if pred >= 0.5 else 0 for pred in y1_pred]\n",
    "    precision = metrics.precision_score(y1_test, y1_pred)\n",
    "    recall = metrics.recall_score(y1_test, y1_pred)\n",
    "    f1 = metrics.f1_score(y1_test, y1_pred)\n",
    "    auc_roc = metrics.roc_auc_score(y1_test, y1_pred)\n",
    "    accuracy = metrics.accuracy_score(y1_test, y1_pred)\n",
    "    \n",
    "    return pd.DataFrame([precision, recall, f1, auc_roc, accuracy], index=['Precision', 'Recall', 'F1' ,'AUC_ROC', 'Accuracy'], columns=[model_name1])"
   ]
  },
  {
   "cell_type": "code",
   "execution_count": 136,
   "id": "2cf284c7-0ec4-4f9b-8068-baab5f2beee4",
   "metadata": {},
   "outputs": [
    {
     "name": "stdout",
     "output_type": "stream",
     "text": [
      "           Random Forest Regressor Valid Train\n",
      "Precision                             0.993697\n",
      "Recall                                0.990576\n",
      "F1                                    0.992134\n",
      "AUC_ROC                               0.994935\n",
      "Accuracy                              0.998415\n",
      "           Random Forest Regressor Valid Test\n",
      "Precision                            0.848214\n",
      "Recall                               0.479798\n",
      "F1                                   0.612903\n",
      "AUC_ROC                              0.735254\n",
      "Accuracy                             0.940828\n"
     ]
    }
   ],
   "source": [
    "Random_Forest_Regressor_Valid = RandomForestRegressor().fit(x1_train, y1_train)\n",
    "print(model_evaluation(Random_Forest_Regressor_Valid, x1_train, y1_train, 'Random Forest Regressor Valid Train'))\n",
    "print(model_evaluation(Random_Forest_Regressor_Valid, x1_test, y1_test, 'Random Forest Regressor Valid Test'))"
   ]
  },
  {
   "cell_type": "code",
   "execution_count": 138,
   "id": "bd6601c9-e932-4f0f-92a4-55470664fd8f",
   "metadata": {},
   "outputs": [
    {
     "name": "stdout",
     "output_type": "stream",
     "text": [
      "           Gradient Boosting Regressor Train\n",
      "Precision                           0.993697\n",
      "Recall                              0.990576\n",
      "F1                                  0.992134\n",
      "AUC_ROC                             0.994935\n",
      "Accuracy                            0.998415\n",
      "           Gradient Boosting Regressor Test\n",
      "Precision                          0.693333\n",
      "Recall                             0.525253\n",
      "F1                                 0.597701\n",
      "AUC_ROC                            0.750058\n",
      "Accuracy                           0.930966\n"
     ]
    }
   ],
   "source": [
    "# Second model is Gradient Boosting Regressor\n",
    "Gradient_Boosting_Regressor = GradientBoostingRegressor(max_depth=15, min_samples_split=5, min_samples_leaf=2).fit(x1_train, y1_train)\n",
    "print(model_evaluation(Gradient_Boosting_Regressor, x1_train, y1_train, 'Gradient Boosting Regressor Train'))\n",
    "print(model_evaluation(Gradient_Boosting_Regressor, x1_test, y1_test, 'Gradient Boosting Regressor Test'))"
   ]
  },
  {
   "cell_type": "code",
   "execution_count": 139,
   "id": "82e5ebc1-d957-48b8-9e3c-9d62b15a00bc",
   "metadata": {},
   "outputs": [
    {
     "name": "stdout",
     "output_type": "stream",
     "text": [
      "           Random Forest Classifier Train\n",
      "Precision                        0.992662\n",
      "Recall                           0.991623\n",
      "F1                               0.992142\n",
      "AUC_ROC                          0.995400\n",
      "Accuracy                         0.998415\n",
      "           Random Forest Classifier Test\n",
      "Precision                       0.888889\n",
      "Recall                          0.464646\n",
      "F1                              0.610282\n",
      "AUC_ROC                         0.729181\n",
      "Accuracy                        0.942061\n"
     ]
    }
   ],
   "source": [
    "# Third is Random Forest Classifier\n",
    "Random_Forest_Classifier = RandomForestClassifier().fit(x1_train, y1_train)\n",
    "print(model_evaluation(Random_Forest_Classifier, x1_train, y1_train, 'Random Forest Classifier Train'))\n",
    "print(model_evaluation(Random_Forest_Classifier, x1_test, y1_test, 'Random Forest Classifier Test'))"
   ]
  },
  {
   "cell_type": "code",
   "execution_count": 140,
   "id": "f1689ad6-f8ec-4134-8c00-23a40efa1bb4",
   "metadata": {},
   "outputs": [
    {
     "name": "stdout",
     "output_type": "stream",
     "text": [
      "           Gradient Boosting Classifier Train\n",
      "Precision                            0.993697\n",
      "Recall                               0.990576\n",
      "F1                                   0.992134\n",
      "AUC_ROC                              0.994935\n",
      "Accuracy                             0.998415\n",
      "           Gradient Boosting Classifier Test\n",
      "Precision                           0.843478\n",
      "Recall                              0.489899\n",
      "F1                                  0.619808\n",
      "AUC_ROC                             0.740031\n",
      "Accuracy                            0.941321\n"
     ]
    }
   ],
   "source": [
    "# Fourth is Gradient Boosting Classifier\n",
    "Gradient_Boosting_Classifier = GradientBoostingClassifier(max_depth=15, min_samples_split=5, min_samples_leaf=2).fit(x1_train, y1_train)\n",
    "print(model_evaluation(Gradient_Boosting_Classifier, x1_train, y1_train, 'Gradient Boosting Classifier Train'))\n",
    "print(model_evaluation(Gradient_Boosting_Classifier, x1_test, y1_test, 'Gradient Boosting Classifier Test'))"
   ]
  },
  {
   "cell_type": "code",
   "execution_count": null,
   "id": "227efbb3-a7c1-4820-b320-eb78ba9fcb65",
   "metadata": {},
   "outputs": [],
   "source": []
  }
 ],
 "metadata": {
  "kernelspec": {
   "display_name": "Python 3 (ipykernel)",
   "language": "python",
   "name": "python3"
  },
  "language_info": {
   "codemirror_mode": {
    "name": "ipython",
    "version": 3
   },
   "file_extension": ".py",
   "mimetype": "text/x-python",
   "name": "python",
   "nbconvert_exporter": "python",
   "pygments_lexer": "ipython3",
   "version": "3.12.4"
  }
 },
 "nbformat": 4,
 "nbformat_minor": 5
}
